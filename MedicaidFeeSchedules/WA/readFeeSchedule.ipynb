{
 "cells": [
  {
   "cell_type": "markdown",
   "metadata": {
    "collapsed": true
   },
   "source": [
    "# Read Washington Medicaid Fee Schedules\n",
    "\n",
    "The Washington state Health Care Authority website for fee schedules is [here](http://www.hca.wa.gov/medicaid/rbrvs/Pages/index.aspx).\n",
    "\n",
    "* Fee schedules come in Excel format\n",
    "* Fee schedules are *usually* biannual (January and July)\n",
    "* Publicly available fee schedules go back to January 2011\n",
    "\n",
    "However, Washington's Medicaid fee schedules are a pain in the ass.\n",
    "They are publicly available as Microsoft Excel files but...\n",
    "\n",
    "* File names are not systematic\n",
    "* They do not read directly into R nicely (using either the `readxl` or `xlsx` packages)\n",
    "* Data lines start at different rows\n",
    "\n",
    "All these issues makes codifying difficult.\n",
    "As a workaround, the following steps were taken.\n",
    "\n",
    "1. Excel files are saved locally\n",
    "2. Excel files are converted to CSV\n",
    "3. CSV files are version controlled in this repository (since they are not large)\n",
    "4. CSV files are read into R\n",
    "\n",
    "The first 3 steps were done manually.\n",
    "The SHA for the commit of the CSV files is 5bde7f3e33e0c83bdace0ed0cf04553a41a8efb1 (5/5/2016).\n",
    "Step 4 is below."
   ]
  },
  {
   "cell_type": "code",
   "execution_count": 3,
   "metadata": {
    "collapsed": false
   },
   "outputs": [
    {
     "data": {
      "text/html": [
       "<ol class=list-inline>\n",
       "\t<li>\"ambulance_transportation_022016.csv\"</li>\n",
       "\t<li>\"Excel\"</li>\n",
       "\t<li>\"HCA_PREOH_January_1_2013.csv\"</li>\n",
       "\t<li>\"physician_010114.csv\"</li>\n",
       "\t<li>\"physician_010115.csv\"</li>\n",
       "\t<li>\"physician_010116.csv\"</li>\n",
       "\t<li>\"physician_040115.csv\"</li>\n",
       "\t<li>\"physician_040116.csv\"</li>\n",
       "\t<li>\"physician_070114.csv\"</li>\n",
       "\t<li>\"physician_070115.csv\"</li>\n",
       "\t<li>\"physician_100115.csv\"</li>\n",
       "\t<li>\"preoh_010112.csv\"</li>\n",
       "\t<li>\"preoh_01012011.csv\"</li>\n",
       "\t<li>\"preoh_070112.csv\"</li>\n",
       "\t<li>\"preoh_070113.csv\"</li>\n",
       "\t<li>\"preoh_07012011.csv\"</li>\n",
       "</ol>\n"
      ],
      "text/latex": [
       "\\begin{enumerate*}\n",
       "\\item \"ambulance_transportation_022016.csv\"\n",
       "\\item \"Excel\"\n",
       "\\item \"HCA_PREOH_January_1_2013.csv\"\n",
       "\\item \"physician_010114.csv\"\n",
       "\\item \"physician_010115.csv\"\n",
       "\\item \"physician_010116.csv\"\n",
       "\\item \"physician_040115.csv\"\n",
       "\\item \"physician_040116.csv\"\n",
       "\\item \"physician_070114.csv\"\n",
       "\\item \"physician_070115.csv\"\n",
       "\\item \"physician_100115.csv\"\n",
       "\\item \"preoh_010112.csv\"\n",
       "\\item \"preoh_01012011.csv\"\n",
       "\\item \"preoh_070112.csv\"\n",
       "\\item \"preoh_070113.csv\"\n",
       "\\item \"preoh_07012011.csv\"\n",
       "\\end{enumerate*}\n"
      ],
      "text/markdown": [
       "1. \"ambulance_transportation_022016.csv\"\n",
       "2. \"Excel\"\n",
       "3. \"HCA_PREOH_January_1_2013.csv\"\n",
       "4. \"physician_010114.csv\"\n",
       "5. \"physician_010115.csv\"\n",
       "6. \"physician_010116.csv\"\n",
       "7. \"physician_040115.csv\"\n",
       "8. \"physician_040116.csv\"\n",
       "9. \"physician_070114.csv\"\n",
       "10. \"physician_070115.csv\"\n",
       "11. \"physician_100115.csv\"\n",
       "12. \"preoh_010112.csv\"\n",
       "13. \"preoh_01012011.csv\"\n",
       "14. \"preoh_070112.csv\"\n",
       "15. \"preoh_070113.csv\"\n",
       "16. \"preoh_07012011.csv\"\n",
       "\n",
       "\n"
      ],
      "text/plain": [
       " [1] \"ambulance_transportation_022016.csv\" \"Excel\"                              \n",
       " [3] \"HCA_PREOH_January_1_2013.csv\"        \"physician_010114.csv\"               \n",
       " [5] \"physician_010115.csv\"                \"physician_010116.csv\"               \n",
       " [7] \"physician_040115.csv\"                \"physician_040116.csv\"               \n",
       " [9] \"physician_070114.csv\"                \"physician_070115.csv\"               \n",
       "[11] \"physician_100115.csv\"                \"preoh_010112.csv\"                   \n",
       "[13] \"preoh_01012011.csv\"                  \"preoh_070112.csv\"                   \n",
       "[15] \"preoh_070113.csv\"                    \"preoh_07012011.csv\"                 "
      ]
     },
     "execution_count": 3,
     "metadata": {},
     "output_type": "execute_result"
    }
   ],
   "source": [
    "files <- list.files(file.path(getwd(), \"Data\"))\n",
    "files\n",
    "files <- paste(\"Data\", files, sep=\"/\")"
   ]
  },
  {
   "cell_type": "markdown",
   "metadata": {},
   "source": [
    "## Physician-Related/Professional Services"
   ]
  },
  {
   "cell_type": "code",
   "execution_count": 2,
   "metadata": {
    "collapsed": false
   },
   "outputs": [],
   "source": [
    "library(data.table)\n",
    "readFS <- function (f, skip) {\n",
    "    require(data.table, quietly=TRUE)\n",
    "    for (i in 11:16) {if (grepl(sprintf(\"%d\\\\.csv\", i), f)) {year <- as.numeric(sprintf(\"20%d\", i))}}\n",
    "    for (i in 1:12) {\n",
    "        monname <- format(as.Date(sprintf(\"%d-%d-01\", year, i)), format=\"%B\")\n",
    "        if (grepl(sprintf(\"_%02d\", i), f) | grepl(tolower(monname), f, ignore.case=TRUE)) {\n",
    "            mm <- i\n",
    "        }\n",
    "    }\n",
    "    colClasses <- rep(\"character\", 9)\n",
    "    D <- data.table(read.csv(f, header=FALSE, colClasses=colClasses, skip=skip, na.strings=c(\"\"), strip.white=TRUE))\n",
    "    old <- names(D)\n",
    "    keep <- c(\"code_status_indicator\",\n",
    "              \"code\",\n",
    "              \"mod\",\n",
    "              \"nfs_maximum_allowable\",\n",
    "              \"fs_maximum_allowable\",\n",
    "              \"pa_required\",\n",
    "              \"global_days\",\n",
    "              \"comments\")\n",
    "    if (length(old) > length(keep)) {new <- c(keep, old[(length(keep) + 1):length(old)])}\n",
    "    else {new <- keep}\n",
    "    setnames(D, old, new)\n",
    "    D <- D[, effective_date := as.Date(sprintf(\"%d-%d-01\", year, mm))]\n",
    "    D[, c(keep, \"effective_date\"), with=FALSE]\n",
    "}"
   ]
  },
  {
   "cell_type": "code",
   "execution_count": 3,
   "metadata": {
    "collapsed": false
   },
   "outputs": [
    {
     "name": "stdout",
     "output_type": "stream",
     "text": [
      "Classes 'data.table' and 'data.frame':\t164912 obs. of  9 variables:\n",
      " $ code_status_indicator: chr  NA NA NA NA ...\n",
      " $ code                 : chr  \"00100\" \"00102\" \"00103\" \"00104\" ...\n",
      " $ mod                  : chr  NA NA NA NA ...\n",
      " $ nfs_maximum_allowable: chr  \"5 Base\" \"6 Base\" \"5 Base\" \"4 Base\" ...\n",
      " $ fs_maximum_allowable : chr  \"5 Base\" \"6 Base\" \"5 Base\" \"4 Base\" ...\n",
      " $ pa_required          : chr  NA NA NA NA ...\n",
      " $ global_days          : chr  \"000\" \"000\" \"000\" \"000\" ...\n",
      " $ comments             : chr  \"N\" \"N\" \"N\" \"N\" ...\n",
      " $ effective_date       : Date, format: \"2013-01-01\" \"2013-01-01\" ...\n",
      " - attr(*, \".internal.selfref\")=<externalptr> \n"
     ]
    }
   ],
   "source": [
    "fs <- rbindlist(list(readFS(file.path(getwd(), \"Data/HCA_PREOH_January_1_2013.csv\"), 9),\n",
    "                     readFS(file.path(getwd(), \"Data/physician_010114.csv\"), 9),\n",
    "                     readFS(file.path(getwd(), \"Data/physician_010115.csv\"), 9),\n",
    "                     readFS(file.path(getwd(), \"Data/physician_010116.csv\"), 10),\n",
    "                     readFS(file.path(getwd(), \"Data/physician_040115.csv\"), 9),\n",
    "                     readFS(file.path(getwd(), \"Data/physician_040116.csv\"), 10),\n",
    "                     readFS(file.path(getwd(), \"Data/physician_070114.csv\"), 9),\n",
    "                     readFS(file.path(getwd(), \"Data/physician_070115.csv\"), 10),\n",
    "                     readFS(file.path(getwd(), \"Data/physician_100115.csv\"), 10),\n",
    "                     readFS(file.path(getwd(), \"Data/preoh_010112.csv\"), 6),\n",
    "                     readFS(file.path(getwd(), \"Data/preoh_01012011.csv\"), 6),\n",
    "                     readFS(file.path(getwd(), \"Data/preoh_070112.csv\"), 9),\n",
    "                     readFS(file.path(getwd(), \"Data/preoh_070113.csv\"), 9),\n",
    "                     readFS(file.path(getwd(), \"Data/preoh_07012011.csv\"), 6)))\n",
    "str(fs)"
   ]
  },
  {
   "cell_type": "code",
   "execution_count": 4,
   "metadata": {
    "collapsed": false
   },
   "outputs": [
    {
     "data": {
      "text/html": [
       "<table>\n",
       "<thead><tr><th></th><th scope=col>effective_date</th><th scope=col>N</th></tr></thead>\n",
       "<tbody>\n",
       "\t<tr><th scope=row>1</th><td>2011-01-01</td><td>11697</td></tr>\n",
       "\t<tr><th scope=row>2</th><td>2011-07-01</td><td>11518</td></tr>\n",
       "\t<tr><th scope=row>3</th><td>2012-01-01</td><td>11768</td></tr>\n",
       "\t<tr><th scope=row>4</th><td>2012-07-01</td><td>11606</td></tr>\n",
       "\t<tr><th scope=row>5</th><td>2013-01-01</td><td>11832</td></tr>\n",
       "\t<tr><th scope=row>6</th><td>2013-07-01</td><td>11656</td></tr>\n",
       "\t<tr><th scope=row>7</th><td>2014-01-01</td><td>11803</td></tr>\n",
       "\t<tr><th scope=row>8</th><td>2014-07-01</td><td>11743</td></tr>\n",
       "\t<tr><th scope=row>9</th><td>2015-01-01</td><td>12027</td></tr>\n",
       "\t<tr><th scope=row>10</th><td>2015-04-01</td><td>11835</td></tr>\n",
       "\t<tr><th scope=row>11</th><td>2015-07-01</td><td>11837</td></tr>\n",
       "\t<tr><th scope=row>12</th><td>2015-10-01</td><td>11841</td></tr>\n",
       "\t<tr><th scope=row>13</th><td>2016-01-01</td><td>11958</td></tr>\n",
       "\t<tr><th scope=row>14</th><td>2016-04-01</td><td>11791</td></tr>\n",
       "</tbody>\n",
       "</table>\n"
      ],
      "text/latex": [
       "\\begin{tabular}{r|ll}\n",
       "  & effective_date & N\\\\\n",
       "\\hline\n",
       "\t1 & 2011-01-01 & 11697\\\\\n",
       "\t2 & 2011-07-01 & 11518\\\\\n",
       "\t3 & 2012-01-01 & 11768\\\\\n",
       "\t4 & 2012-07-01 & 11606\\\\\n",
       "\t5 & 2013-01-01 & 11832\\\\\n",
       "\t6 & 2013-07-01 & 11656\\\\\n",
       "\t7 & 2014-01-01 & 11803\\\\\n",
       "\t8 & 2014-07-01 & 11743\\\\\n",
       "\t9 & 2015-01-01 & 12027\\\\\n",
       "\t10 & 2015-04-01 & 11835\\\\\n",
       "\t11 & 2015-07-01 & 11837\\\\\n",
       "\t12 & 2015-10-01 & 11841\\\\\n",
       "\t13 & 2016-01-01 & 11958\\\\\n",
       "\t14 & 2016-04-01 & 11791\\\\\n",
       "\\end{tabular}\n"
      ],
      "text/plain": [
       "    effective_date     N\n",
       " 1:     2011-01-01 11697\n",
       " 2:     2011-07-01 11518\n",
       " 3:     2012-01-01 11768\n",
       " 4:     2012-07-01 11606\n",
       " 5:     2013-01-01 11832\n",
       " 6:     2013-07-01 11656\n",
       " 7:     2014-01-01 11803\n",
       " 8:     2014-07-01 11743\n",
       " 9:     2015-01-01 12027\n",
       "10:     2015-04-01 11835\n",
       "11:     2015-07-01 11837\n",
       "12:     2015-10-01 11841\n",
       "13:     2016-01-01 11958\n",
       "14:     2016-04-01 11791"
      ]
     },
     "execution_count": 4,
     "metadata": {},
     "output_type": "execute_result"
    }
   ],
   "source": [
    "fs[, .N, effective_date][order(effective_date)]"
   ]
  },
  {
   "cell_type": "code",
   "execution_count": 5,
   "metadata": {
    "collapsed": false
   },
   "outputs": [
    {
     "data": {
      "text/html": [
       "<table>\n",
       "<thead><tr><th></th><th scope=col>code_status_indicator</th><th scope=col>code</th><th scope=col>mod</th><th scope=col>nfs_maximum_allowable</th><th scope=col>fs_maximum_allowable</th><th scope=col>pa_required</th><th scope=col>global_days</th><th scope=col>comments</th><th scope=col>effective_date</th></tr></thead>\n",
       "<tbody>\n",
       "\t<tr><th scope=row>1</th><td>NA</td><td>00100</td><td>NA</td><td>5 Base</td><td>5 Base</td><td>NA</td><td>000</td><td>N</td><td>2013-01-01</td></tr>\n",
       "\t<tr><th scope=row>2</th><td>NA</td><td>00102</td><td>NA</td><td>6 Base</td><td>6 Base</td><td>NA</td><td>000</td><td>N</td><td>2013-01-01</td></tr>\n",
       "\t<tr><th scope=row>3</th><td>NA</td><td>00103</td><td>NA</td><td>5 Base</td><td>5 Base</td><td>NA</td><td>000</td><td>N</td><td>2013-01-01</td></tr>\n",
       "\t<tr><th scope=row>4</th><td>NA</td><td>00104</td><td>NA</td><td>4 Base</td><td>4 Base</td><td>NA</td><td>000</td><td>N</td><td>2013-01-01</td></tr>\n",
       "\t<tr><th scope=row>5</th><td>NA</td><td>00120</td><td>NA</td><td>5 Base</td><td>5 Base</td><td>NA</td><td>000</td><td>N</td><td>2013-01-01</td></tr>\n",
       "\t<tr><th scope=row>6</th><td>NA</td><td>00124</td><td>NA</td><td>4 Base</td><td>4 Base</td><td>NA</td><td>000</td><td>N</td><td>2013-01-01</td></tr>\n",
       "</tbody>\n",
       "</table>\n"
      ],
      "text/latex": [
       "\\begin{tabular}{r|lllllllll}\n",
       "  & code_status_indicator & code & mod & nfs_maximum_allowable & fs_maximum_allowable & pa_required & global_days & comments & effective_date\\\\\n",
       "\\hline\n",
       "\t1 & NA & 00100 & NA & 5 Base & 5 Base & NA & 000 & N & 2013-01-01\\\\\n",
       "\t2 & NA & 00102 & NA & 6 Base & 6 Base & NA & 000 & N & 2013-01-01\\\\\n",
       "\t3 & NA & 00103 & NA & 5 Base & 5 Base & NA & 000 & N & 2013-01-01\\\\\n",
       "\t4 & NA & 00104 & NA & 4 Base & 4 Base & NA & 000 & N & 2013-01-01\\\\\n",
       "\t5 & NA & 00120 & NA & 5 Base & 5 Base & NA & 000 & N & 2013-01-01\\\\\n",
       "\t6 & NA & 00124 & NA & 4 Base & 4 Base & NA & 000 & N & 2013-01-01\\\\\n",
       "\\end{tabular}\n"
      ],
      "text/plain": [
       "   code_status_indicator  code mod nfs_maximum_allowable fs_maximum_allowable\n",
       "1:                    NA 00100  NA                5 Base               5 Base\n",
       "2:                    NA 00102  NA                6 Base               6 Base\n",
       "3:                    NA 00103  NA                5 Base               5 Base\n",
       "4:                    NA 00104  NA                4 Base               4 Base\n",
       "5:                    NA 00120  NA                5 Base               5 Base\n",
       "6:                    NA 00124  NA                4 Base               4 Base\n",
       "   pa_required global_days comments effective_date\n",
       "1:          NA         000        N     2013-01-01\n",
       "2:          NA         000        N     2013-01-01\n",
       "3:          NA         000        N     2013-01-01\n",
       "4:          NA         000        N     2013-01-01\n",
       "5:          NA         000        N     2013-01-01\n",
       "6:          NA         000        N     2013-01-01"
      ]
     },
     "execution_count": 5,
     "metadata": {},
     "output_type": "execute_result"
    },
    {
     "data": {
      "text/html": [
       "<table>\n",
       "<thead><tr><th></th><th scope=col>code_status_indicator</th><th scope=col>code</th><th scope=col>mod</th><th scope=col>nfs_maximum_allowable</th><th scope=col>fs_maximum_allowable</th><th scope=col>pa_required</th><th scope=col>global_days</th><th scope=col>comments</th><th scope=col>effective_date</th></tr></thead>\n",
       "<tbody>\n",
       "\t<tr><th scope=row>1</th><td>NA</td><td>V2631</td><td>NA</td><td>342.42</td><td>342.42</td><td>NA</td><td>000</td><td>N</td><td>2011-07-01</td></tr>\n",
       "\t<tr><th scope=row>2</th><td>NA</td><td>V2632</td><td>NA</td><td>342.42</td><td>342.42</td><td>NA</td><td>000</td><td>N</td><td>2011-07-01</td></tr>\n",
       "\t<tr><th scope=row>3</th><td>NA</td><td>V2785</td><td>NA</td><td>#</td><td>#</td><td>NA</td><td>000</td><td>N</td><td>2011-07-01</td></tr>\n",
       "\t<tr><th scope=row>4</th><td>NA</td><td>V2787</td><td>NA</td><td>#</td><td>#</td><td>NA</td><td>000</td><td>N</td><td>2011-07-01</td></tr>\n",
       "\t<tr><th scope=row>5</th><td>NA</td><td>V2788</td><td>NA</td><td>#</td><td>#</td><td>NA</td><td>000</td><td>N</td><td>2011-07-01</td></tr>\n",
       "\t<tr><th scope=row>6</th><td>NA</td><td>V2799</td><td>NA</td><td>#</td><td>#</td><td>NA</td><td>000</td><td>N</td><td>2011-07-01</td></tr>\n",
       "</tbody>\n",
       "</table>\n"
      ],
      "text/latex": [
       "\\begin{tabular}{r|lllllllll}\n",
       "  & code_status_indicator & code & mod & nfs_maximum_allowable & fs_maximum_allowable & pa_required & global_days & comments & effective_date\\\\\n",
       "\\hline\n",
       "\t1 & NA & V2631 & NA & 342.42 & 342.42 & NA & 000 & N & 2011-07-01\\\\\n",
       "\t2 & NA & V2632 & NA & 342.42 & 342.42 & NA & 000 & N & 2011-07-01\\\\\n",
       "\t3 & NA & V2785 & NA & # & # & NA & 000 & N & 2011-07-01\\\\\n",
       "\t4 & NA & V2787 & NA & # & # & NA & 000 & N & 2011-07-01\\\\\n",
       "\t5 & NA & V2788 & NA & # & # & NA & 000 & N & 2011-07-01\\\\\n",
       "\t6 & NA & V2799 & NA & # & # & NA & 000 & N & 2011-07-01\\\\\n",
       "\\end{tabular}\n"
      ],
      "text/plain": [
       "   code_status_indicator  code mod nfs_maximum_allowable fs_maximum_allowable\n",
       "1:                    NA V2631  NA                342.42               342.42\n",
       "2:                    NA V2632  NA                342.42               342.42\n",
       "3:                    NA V2785  NA                     #                    #\n",
       "4:                    NA V2787  NA                     #                    #\n",
       "5:                    NA V2788  NA                     #                    #\n",
       "6:                    NA V2799  NA                     #                    #\n",
       "   pa_required global_days comments effective_date\n",
       "1:          NA         000        N     2011-07-01\n",
       "2:          NA         000        N     2011-07-01\n",
       "3:          NA         000        N     2011-07-01\n",
       "4:          NA         000        N     2011-07-01\n",
       "5:          NA         000        N     2011-07-01\n",
       "6:          NA         000        N     2011-07-01"
      ]
     },
     "execution_count": 5,
     "metadata": {},
     "output_type": "execute_result"
    }
   ],
   "source": [
    "head(fs)\n",
    "tail(fs)"
   ]
  },
  {
   "cell_type": "markdown",
   "metadata": {},
   "source": [
    "Rename object"
   ]
  },
  {
   "cell_type": "code",
   "execution_count": null,
   "metadata": {
    "collapsed": true
   },
   "outputs": [],
   "source": [
    "fsPhysician <- fs"
   ]
  },
  {
   "cell_type": "markdown",
   "metadata": {},
   "source": [
    "## Ambulance Transportation"
   ]
  },
  {
   "cell_type": "code",
   "execution_count": 18,
   "metadata": {
    "collapsed": false
   },
   "outputs": [
    {
     "name": "stdout",
     "output_type": "stream",
     "text": [
      "Classes 'data.table' and 'data.frame':\t14 obs. of  6 variables:\n",
      " $ code_status_indicator: logi  NA NA NA NA NA NA ...\n",
      " $ code                 : chr  \"A0430\" \"A0431\" \"A0435\" \"A0436\" ...\n",
      " $ description          : chr  \"Ambulance service, conventional air services, transport, one way (fixed wing)\" \"Ambulance service, conventional air services, transport, one way (rotary wing)\" \"Fixed wing air mileage, per statute mile\" \"Rotary wing air mileage, per statute mile\" ...\n",
      " $ fs_maximum_allowable : num  910.8 804.5 5.5 13.3 115.3 ...\n",
      " $ limits               : chr  \"Per client transported.\" \"Per client transported.\" \"One way, per flight, equally divided by the number of clients transported.\" \"One way, per flight, equally divided by the number of clients transported.\" ...\n",
      " $ effective_date       : Date, format: \"2006-07-01\" \"2006-07-01\" ...\n",
      " - attr(*, \".internal.selfref\")=<externalptr> \n"
     ]
    },
    {
     "data": {
      "text/html": [
       "<table>\n",
       "<thead><tr><th></th><th scope=col>code_status_indicator</th><th scope=col>code</th><th scope=col>description</th><th scope=col>fs_maximum_allowable</th><th scope=col>limits</th><th scope=col>effective_date</th></tr></thead>\n",
       "<tbody>\n",
       "\t<tr><th scope=row>1</th><td>NA</td><td>A0430</td><td>Ambulance service, conventional air services, transport, one way (fixed wing)</td><td>910.81</td><td>Per client transported.</td><td>2006-07-01</td></tr>\n",
       "\t<tr><th scope=row>2</th><td>NA</td><td>A0431</td><td>Ambulance service, conventional air services, transport, one way (rotary wing)</td><td>804.45</td><td>Per client transported.</td><td>2006-07-01</td></tr>\n",
       "\t<tr><th scope=row>3</th><td>NA</td><td>A0435</td><td>Fixed wing air mileage, per statute mile</td><td>5.5</td><td>One way, per flight, equally divided by the number of clients transported.</td><td>2006-07-01</td></tr>\n",
       "\t<tr><th scope=row>4</th><td>NA</td><td>A0436</td><td>Rotary wing air mileage, per statute mile</td><td>13.31</td><td>One way, per flight, equally divided by the number of clients transported.</td><td>2006-07-01</td></tr>\n",
       "\t<tr><th scope=row>5</th><td>NA</td><td>A0428</td><td>Ambulance service, basic life support, non-emergency transport (BLS)</td><td>115.34</td><td>Origin and destination modifiers required.  For each additional client, use modifier GM in addition to the origin and destination modifiers.</td><td>2006-07-01</td></tr>\n",
       "\t<tr><th scope=row>6</th><td>NA</td><td>A0429</td><td>Ambulance service, basic life support, emergency transport (BLS-emergency) </td><td>115.34</td><td>Origin and destination modifiers required.  For each additional client, use modifier GM in addition to the origin and destination modifiers.</td><td>2006-07-01</td></tr>\n",
       "\t<tr><th scope=row>7</th><td>NA</td><td>A0426</td><td>Ambulance service, advanced life support non-emergency transport, level 1 (ALS 1)</td><td>168.43</td><td>Origin and destination modifiers required.  For each additional client, use modifier GM in addition to the origin and destination modifiers.</td><td>2006-07-01</td></tr>\n",
       "\t<tr><th scope=row>8</th><td>NA</td><td>A0427</td><td>Ambulance service, advanced life support, emergency transport, level 1 (ALS 1 emergency)</td><td>168.43</td><td>Origin and destination modifiers required.  For each additional client, use modifier GM in addition to the origin and destination modifiers.</td><td>2006-07-01</td></tr>\n",
       "\t<tr><th scope=row>9</th><td>NA</td><td>A0433</td><td>Advanced life support, level 2 (ALS 2)</td><td>168.43</td><td>Origin and destination modifiers required.  For each additional client, use modifier GM in addition to the origin and destination modifiers.</td><td>2006-07-01</td></tr>\n",
       "\t<tr><th scope=row>10</th><td>NA</td><td>A0434</td><td>Specialty care transport (SCT)</td><td>168.43</td><td>Origin and destination modifiers required.  For each additional client, use modifier GM in addition to the origin and destination modifiers.</td><td>2006-07-01</td></tr>\n",
       "\t<tr><th scope=row>11</th><td>NA</td><td>A0425</td><td>Ground mileage, per statute mile</td><td>5.08</td><td>Origin and destination modifiers required.</td><td>2006-07-01</td></tr>\n",
       "\t<tr><th scope=row>12</th><td>NA</td><td>A0170</td><td>Transportation ancillary: parking fees, tolls, other Invoice required.</td><td>NA</td><td>Origin and destination modifiers required.</td><td>2006-07-01</td></tr>\n",
       "\t<tr><th scope=row>13</th><td>NA</td><td>A0424</td><td>Extra ambulance attendant, ground (ALS or BLS) or air (fixed or rotary winged); (requires medical review)</td><td>23.18</td><td>Pertinent documentation to evaluate medical appropriateness should be included when this code is reported. Origin and destination modifiers required. Justification required: * The client weighs 300 pounds or more; or * Client is violent or difficult to move safely; or * More than one client is being transported, and each requires medical attention and/or close monitoring. Note: DSHS pays for an extra attendant in ground ambulance transports only.  No payment is made for an extra attendant in air ambulance transports.</td><td>2006-07-01</td></tr>\n",
       "\t<tr><th scope=row>14</th><td>NA</td><td>A0998</td><td>Ambulance response and treatment, no transport </td><td>NA</td><td>Code not payable.  Used for data collection purposes only.</td><td>2006-07-01</td></tr>\n",
       "</tbody>\n",
       "</table>\n"
      ],
      "text/latex": [
       "\\begin{tabular}{r|llllll}\n",
       "  & code_status_indicator & code & description & fs_maximum_allowable & limits & effective_date\\\\\n",
       "\\hline\n",
       "\t1 & NA & A0430 & Ambulance service, conventional air services, transport, one way (fixed wing) & 910.81 & Per client transported. & 2006-07-01\\\\\n",
       "\t2 & NA & A0431 & Ambulance service, conventional air services, transport, one way (rotary wing) & 804.45 & Per client transported. & 2006-07-01\\\\\n",
       "\t3 & NA & A0435 & Fixed wing air mileage, per statute mile & 5.5 & One way, per flight, equally divided by the number of clients transported. & 2006-07-01\\\\\n",
       "\t4 & NA & A0436 & Rotary wing air mileage, per statute mile & 13.31 & One way, per flight, equally divided by the number of clients transported. & 2006-07-01\\\\\n",
       "\t5 & NA & A0428 & Ambulance service, basic life support, non-emergency transport (BLS) & 115.34 & Origin and destination modifiers required.  For each additional client, use modifier GM in addition to the origin and destination modifiers. & 2006-07-01\\\\\n",
       "\t6 & NA & A0429 & Ambulance service, basic life support, emergency transport (BLS-emergency)  & 115.34 & Origin and destination modifiers required.  For each additional client, use modifier GM in addition to the origin and destination modifiers. & 2006-07-01\\\\\n",
       "\t7 & NA & A0426 & Ambulance service, advanced life support non-emergency transport, level 1 (ALS 1) & 168.43 & Origin and destination modifiers required.  For each additional client, use modifier GM in addition to the origin and destination modifiers. & 2006-07-01\\\\\n",
       "\t8 & NA & A0427 & Ambulance service, advanced life support, emergency transport, level 1 (ALS 1 emergency) & 168.43 & Origin and destination modifiers required.  For each additional client, use modifier GM in addition to the origin and destination modifiers. & 2006-07-01\\\\\n",
       "\t9 & NA & A0433 & Advanced life support, level 2 (ALS 2) & 168.43 & Origin and destination modifiers required.  For each additional client, use modifier GM in addition to the origin and destination modifiers. & 2006-07-01\\\\\n",
       "\t10 & NA & A0434 & Specialty care transport (SCT) & 168.43 & Origin and destination modifiers required.  For each additional client, use modifier GM in addition to the origin and destination modifiers. & 2006-07-01\\\\\n",
       "\t11 & NA & A0425 & Ground mileage, per statute mile & 5.08 & Origin and destination modifiers required. & 2006-07-01\\\\\n",
       "\t12 & NA & A0170 & Transportation ancillary: parking fees, tolls, other Invoice required. & NA & Origin and destination modifiers required. & 2006-07-01\\\\\n",
       "\t13 & NA & A0424 & Extra ambulance attendant, ground (ALS or BLS) or air (fixed or rotary winged); (requires medical review) & 23.18 & Pertinent documentation to evaluate medical appropriateness should be included when this code is reported. Origin and destination modifiers required. Justification required: * The client weighs 300 pounds or more; or * Client is violent or difficult to move safely; or * More than one client is being transported, and each requires medical attention and/or close monitoring. Note: DSHS pays for an extra attendant in ground ambulance transports only.  No payment is made for an extra attendant in air ambulance transports. & 2006-07-01\\\\\n",
       "\t14 & NA & A0998 & Ambulance response and treatment, no transport  & NA & Code not payable.  Used for data collection purposes only. & 2006-07-01\\\\\n",
       "\\end{tabular}\n"
      ],
      "text/plain": [
       "    code_status_indicator  code\n",
       " 1:                    NA A0430\n",
       " 2:                    NA A0431\n",
       " 3:                    NA A0435\n",
       " 4:                    NA A0436\n",
       " 5:                    NA A0428\n",
       " 6:                    NA A0429\n",
       " 7:                    NA A0426\n",
       " 8:                    NA A0427\n",
       " 9:                    NA A0433\n",
       "10:                    NA A0434\n",
       "11:                    NA A0425\n",
       "12:                    NA A0170\n",
       "13:                    NA A0424\n",
       "14:                    NA A0998\n",
       "                                                                                                  description\n",
       " 1:                             Ambulance service, conventional air services, transport, one way (fixed wing)\n",
       " 2:                            Ambulance service, conventional air services, transport, one way (rotary wing)\n",
       " 3:                                                                  Fixed wing air mileage, per statute mile\n",
       " 4:                                                                 Rotary wing air mileage, per statute mile\n",
       " 5:                                      Ambulance service, basic life support, non-emergency transport (BLS)\n",
       " 6:                               Ambulance service, basic life support, emergency transport (BLS-emergency) \n",
       " 7:                         Ambulance service, advanced life support non-emergency transport, level 1 (ALS 1)\n",
       " 8:                  Ambulance service, advanced life support, emergency transport, level 1 (ALS 1 emergency)\n",
       " 9:                                                                    Advanced life support, level 2 (ALS 2)\n",
       "10:                                                                            Specialty care transport (SCT)\n",
       "11:                                                                          Ground mileage, per statute mile\n",
       "12:                                    Transportation ancillary: parking fees, tolls, other Invoice required.\n",
       "13: Extra ambulance attendant, ground (ALS or BLS) or air (fixed or rotary winged); (requires medical review)\n",
       "14:                                                           Ambulance response and treatment, no transport \n",
       "    fs_maximum_allowable\n",
       " 1:               910.81\n",
       " 2:               804.45\n",
       " 3:                 5.50\n",
       " 4:                13.31\n",
       " 5:               115.34\n",
       " 6:               115.34\n",
       " 7:               168.43\n",
       " 8:               168.43\n",
       " 9:               168.43\n",
       "10:               168.43\n",
       "11:                 5.08\n",
       "12:                   NA\n",
       "13:                23.18\n",
       "14:                   NA\n",
       "                                                                                                                                                                                                                                                                                                                                                                                                                                                                                                                                        limits\n",
       " 1:                                                                                                                                                                                                                                                                                                                                                                                                                                                                                                                    Per client transported.\n",
       " 2:                                                                                                                                                                                                                                                                                                                                                                                                                                                                                                                    Per client transported.\n",
       " 3:                                                                                                                                                                                                                                                                                                                                                                                                                                                                 One way, per flight, equally divided by the number of clients transported.\n",
       " 4:                                                                                                                                                                                                                                                                                                                                                                                                                                                                 One way, per flight, equally divided by the number of clients transported.\n",
       " 5:                                                                                                                                                                                                                                                                                                                                                                                               Origin and destination modifiers required.  For each additional client, use modifier GM in addition to the origin and destination modifiers.\n",
       " 6:                                                                                                                                                                                                                                                                                                                                                                                               Origin and destination modifiers required.  For each additional client, use modifier GM in addition to the origin and destination modifiers.\n",
       " 7:                                                                                                                                                                                                                                                                                                                                                                                               Origin and destination modifiers required.  For each additional client, use modifier GM in addition to the origin and destination modifiers.\n",
       " 8:                                                                                                                                                                                                                                                                                                                                                                                               Origin and destination modifiers required.  For each additional client, use modifier GM in addition to the origin and destination modifiers.\n",
       " 9:                                                                                                                                                                                                                                                                                                                                                                                               Origin and destination modifiers required.  For each additional client, use modifier GM in addition to the origin and destination modifiers.\n",
       "10:                                                                                                                                                                                                                                                                                                                                                                                               Origin and destination modifiers required.  For each additional client, use modifier GM in addition to the origin and destination modifiers.\n",
       "11:                                                                                                                                                                                                                                                                                                                                                                                                                                                                                                 Origin and destination modifiers required.\n",
       "12:                                                                                                                                                                                                                                                                                                                                                                                                                                                                                                 Origin and destination modifiers required.\n",
       "13: Pertinent documentation to evaluate medical appropriateness should be included when this code is reported. Origin and destination modifiers required. Justification required: * The client weighs 300 pounds or more; or * Client is violent or difficult to move safely; or * More than one client is being transported, and each requires medical attention and/or close monitoring. Note: DSHS pays for an extra attendant in ground ambulance transports only.  No payment is made for an extra attendant in air ambulance transports.\n",
       "14:                                                                                                                                                                                                                                                                                                                                                                                                                                                                                 Code not payable.  Used for data collection purposes only.\n",
       "    effective_date\n",
       " 1:     2006-07-01\n",
       " 2:     2006-07-01\n",
       " 3:     2006-07-01\n",
       " 4:     2006-07-01\n",
       " 5:     2006-07-01\n",
       " 6:     2006-07-01\n",
       " 7:     2006-07-01\n",
       " 8:     2006-07-01\n",
       " 9:     2006-07-01\n",
       "10:     2006-07-01\n",
       "11:     2006-07-01\n",
       "12:     2006-07-01\n",
       "13:     2006-07-01\n",
       "14:     2006-07-01"
      ]
     },
     "execution_count": 18,
     "metadata": {},
     "output_type": "execute_result"
    }
   ],
   "source": [
    "library(data.table)\n",
    "f <- file.path(getwd(), \"Data/ambulance_transportation_022016.csv\")\n",
    "D <- data.table(read.csv(f, header=TRUE, na.strings=c(\"\"), strip.white=TRUE, stringsAsFactors=FALSE))\n",
    "old <- names(D)\n",
    "new <- c(\"code_status_indicator\",\n",
    "         \"code\",\n",
    "         \"description\",\n",
    "         \"fs_maximum_allowable\",\n",
    "         \"limits\")\n",
    "setnames(D, old, new)\n",
    "D <- D[, fs_maximum_allowable := as.numeric(gsub(\"[^0-9\\\\.]\", \"\", fs_maximum_allowable))]\n",
    "D <- D[, effective_date := as.Date(\"2006-07-01\")]\n",
    "str(D)\n",
    "D"
   ]
  }
 ],
 "metadata": {
  "kernelspec": {
   "display_name": "R",
   "language": "R",
   "name": "ir"
  },
  "language_info": {
   "codemirror_mode": "r",
   "file_extension": ".r",
   "mimetype": "text/x-r-source",
   "name": "R",
   "pygments_lexer": "r",
   "version": "3.2.2"
  }
 },
 "nbformat": 4,
 "nbformat_minor": 0
}
